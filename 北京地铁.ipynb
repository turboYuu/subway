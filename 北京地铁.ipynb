{
  "nbformat": 4,
  "nbformat_minor": 0,
  "metadata": {
    "colab": {
      "name": "北京地铁.ipynb",
      "provenance": [],
      "authorship_tag": "ABX9TyM/iBID31THpp0o0Avlj+q2",
      "include_colab_link": true
    },
    "kernelspec": {
      "name": "python3",
      "display_name": "Python 3"
    }
  },
  "cells": [
    {
      "cell_type": "markdown",
      "metadata": {
        "id": "view-in-github",
        "colab_type": "text"
      },
      "source": [
        "<a href=\"https://colab.research.google.com/github/yutao-turbo/subway/blob/master/%E5%8C%97%E4%BA%AC%E5%9C%B0%E9%93%81.ipynb\" target=\"_parent\"><img src=\"https://colab.research.google.com/assets/colab-badge.svg\" alt=\"Open In Colab\"/></a>"
      ]
    },
    {
      "cell_type": "code",
      "metadata": {
        "id": "Rpzh2G-hmjiQ",
        "colab_type": "code",
        "colab": {}
      },
      "source": [
        "from bs4 import BeautifulSoup as sp\n",
        "import re\n",
        "import requests\n",
        "import pinyin\n",
        "\n",
        "url = \"https://zh.wikipedia.org/wiki/%E5%8C%97%E4%BA%AC%E5%9C%B0%E9%93%81%E8%BD%A6%E7%AB%99%E5%88%97%E8%A1%A8\"\n",
        "html=requests.get(url).text\n",
        "soup = sp(html,\"html.parser\")\n",
        "allTags = soup.find_all(\"a\",string=re.compile(\"(站)$\"))\n",
        "\n",
        "\n",
        "stations = []\n",
        "for allTag in allTags:\n",
        "  station = allTag.get_text()\n",
        "  if station[:-1] not in stations:\n",
        "    stations.append(station[:-1])\n",
        "\n",
        "#获取单个汉字拼音声调\n",
        "def getPinYinTh(word):\n",
        "  pinyinTh = pinyin.get(word,format=\"numerical\")\n",
        "  return pinyinTh[-1]\n",
        "\n",
        "#判断站名声调是否一致\n",
        "def getSameProunce(station):\n",
        "  status = True\n",
        "  i = 0\n",
        "  while i < len(station)-1:\n",
        "    if getPinYinTh(station[i]) != getPinYinTh(station[i+1]):\n",
        "      status = False\n",
        "    i = i + 1\n",
        "  return status\n",
        "\n",
        "oneStations = []\n",
        "twoStations = []\n",
        "threeStations = []\n",
        "fourStations = []\n",
        "\n",
        "for station in stations:\n",
        "  print(station)\n",
        "  if getPinYinTh(station[0]) == '1' and getSameProunce(station):   \n",
        "    oneStations.append(station)\n",
        "  elif getPinYinTh(station[0]) == '2' and getSameProunce(station):\n",
        "    twoStations.append(station)\n",
        "  elif getPinYinTh(station[0]) == '3' and getSameProunce(station):\n",
        "    threeStations.append(station)\n",
        "  elif getPinYinTh(station[0]) == '4' and getSameProunce(station):\n",
        "    fourStations.append(station)\n",
        "\n",
        "\n"
      ],
      "execution_count": 0,
      "outputs": []
    },
    {
      "cell_type": "code",
      "metadata": {
        "id": "e2fOx-43v02B",
        "colab_type": "code",
        "colab": {
          "base_uri": "https://localhost:8080/",
          "height": 161
        },
        "outputId": "e28f2628-ccda-48dc-f4a5-52ddc03a6492"
      },
      "source": [
        "print('一声共',len(oneStations),'个')\n",
        "print(oneStations)\n",
        "print('二声共',len(twoStations),'个')\n",
        "print(twotations)\n",
        "print('三声共',len(threeStations),'个')\n",
        "print(threeStations)\n",
        "print('四声共',len(fourStations),'个')\n",
        "print(Stations)"
      ],
      "execution_count": 26,
      "outputs": [
        {
          "output_type": "stream",
          "text": [
            "一声共 16 个\n",
            "['西单', '东单', '车公庄', '中关村', '车公庄西', '花庄', '朱辛庄', '郭公庄', '巴沟', '苏州街', '张郭庄', '方庄', '关庄', '新宫', '苏庄', '香山']\n",
            "二声共 18 个\n",
            "['西单', '东单', '车公庄', '中关村', '车公庄西', '花庄', '朱辛庄', '郭公庄', '巴沟', '苏州街', '张郭庄', '方庄', '关庄', '新宫', '苏庄', '香山']\n",
            "三声共 1 个\n",
            "['西单', '东单', '车公庄', '中关村', '车公庄西', '花庄', '朱辛庄', '郭公庄', '巴沟', '苏州街', '张郭庄', '方庄', '关庄', '新宫', '苏庄', '香山']\n",
            "四声共 6 个\n",
            "['西单', '东单', '车公庄', '中关村', '车公庄西', '花庄', '朱辛庄', '郭公庄', '巴沟', '苏州街', '张郭庄', '方庄', '关庄', '新宫', '苏庄', '香山']\n"
          ],
          "name": "stdout"
        }
      ]
    },
    {
      "cell_type": "code",
      "metadata": {
        "id": "mXc4QnA3vfOM",
        "colab_type": "code",
        "colab": {
          "base_uri": "https://localhost:8080/",
          "height": 35
        },
        "outputId": "154a1811-3a7d-4371-aa45-3df15636f0b4"
      },
      "source": [
        "print(getPinYinTh('为'))"
      ],
      "execution_count": 22,
      "outputs": [
        {
          "output_type": "stream",
          "text": [
            "4\n"
          ],
          "name": "stdout"
        }
      ]
    },
    {
      "cell_type": "code",
      "metadata": {
        "id": "eLwvMB5WojqO",
        "colab_type": "code",
        "colab": {
          "base_uri": "https://localhost:8080/",
          "height": 197
        },
        "outputId": "d16e0290-d8b8-4fe3-d3f6-eba30cae2d86"
      },
      "source": [
        "pip install pinyin"
      ],
      "execution_count": 2,
      "outputs": [
        {
          "output_type": "stream",
          "text": [
            "Collecting pinyin\n",
            "\u001b[?25l  Downloading https://files.pythonhosted.org/packages/32/95/d2969f1071b7bc0afff407d1d7b4b3f445e8e6b59df7921c9c09e35ee375/pinyin-0.4.0.tar.gz (3.6MB)\n",
            "\u001b[K     |████████████████████████████████| 3.6MB 2.8MB/s \n",
            "\u001b[?25hBuilding wheels for collected packages: pinyin\n",
            "  Building wheel for pinyin (setup.py) ... \u001b[?25l\u001b[?25hdone\n",
            "  Created wheel for pinyin: filename=pinyin-0.4.0-cp36-none-any.whl size=3630485 sha256=ed8213198ee21be815ebf32e6d42f9084baafe6a3002bc8c7ef78d2a7d94e53a\n",
            "  Stored in directory: /root/.cache/pip/wheels/bd/90/5a/e9844998f3e67b29c5bbca9dc20b5c76f936a45ea77f78e4a9\n",
            "Successfully built pinyin\n",
            "Installing collected packages: pinyin\n",
            "Successfully installed pinyin-0.4.0\n"
          ],
          "name": "stdout"
        }
      ]
    }
  ]
}